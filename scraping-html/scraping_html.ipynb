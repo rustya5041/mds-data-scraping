{
 "cells": [
  {
   "attachments": {},
   "cell_type": "markdown",
   "metadata": {},
   "source": [
    "# Wikipedia Edits"
   ]
  },
  {
   "attachments": {},
   "cell_type": "markdown",
   "metadata": {},
   "source": [
    "## Week 6. Practice Programming Assignment 1"
   ]
  },
  {
   "attachments": {},
   "cell_type": "markdown",
   "metadata": {},
   "source": [
    "Let's look at top-5 countries of the European Union by population. They are [Germany](https://en.wikipedia.org/w/index.php?title=Germany), [France](https://en.wikipedia.org/w/index.php?title=France), [Italy](https://en.wikipedia.org/w/index.php?title=Italy), [Spain](https://en.wikipedia.org/w/index.php?title=Spain), [Poland](https://en.wikipedia.org/w/index.php?title=Poland).\n",
    "\n",
    "\n",
    "In this assignment you are required to look at wikipedia pages of these countries. More specifically, at history of edits of the pages (Click on 'View History' at the top right when you are on wikipedia article page). You are free to use any scraping tools we have covered to answer the questions, that you will find below."
   ]
  },
  {
   "attachments": {},
   "cell_type": "markdown",
   "metadata": {},
   "source": [
    "<br><br><br><br>"
   ]
  },
  {
   "attachments": {},
   "cell_type": "markdown",
   "metadata": {},
   "source": [
    "### Coding part"
   ]
  },
  {
   "cell_type": "code",
   "execution_count": 2,
   "metadata": {},
   "outputs": [],
   "source": [
    "import regex as re\n",
    "import requests\n",
    "from bs4 import BeautifulSoup, SoupStrainer\n",
    "import pandas as pd"
   ]
  },
  {
   "cell_type": "code",
   "execution_count": 3,
   "metadata": {},
   "outputs": [],
   "source": [
    "def parse_history_change_to_df(urls, tags, attrs, year=None):\n",
    "    \"\"\"\n",
    "    Parse the change history of a Wikipedia page to a pandas dataframe.\n",
    "        \n",
    "        :param urls: list of urls to parse\n",
    "        :param tags: list of tags to parse\n",
    "        :param attrs: dictionary of attributes to parse\n",
    "        :optional param year: year to filter\n",
    "    \n",
    "        :returns: pandas dataframe\n",
    "    \"\"\"\n",
    "    df = pd.DataFrame(columns=['country', 'date', 'user'])\n",
    "\n",
    "    # Loop through urls\n",
    "    for url in urls:\n",
    "        r = requests.get(url)\n",
    "        soup = BeautifulSoup(r.text, 'html.parser')\n",
    "        \n",
    "        # Parse the data\n",
    "        data = soup.find_all(tags, attrs=attrs)\n",
    "\n",
    "        # list of lists for dataframe creation\n",
    "        collection = []\n",
    "\n",
    "        # glueing log entries for date and user together\n",
    "        for i in range(0, len(data), 2):\n",
    "            if 'history-deleted' in data[i].get('class'):   # 'find_all' method for some reason includes not only specified classes, but also incapsulated classes\n",
    "                pass\n",
    "            else:\n",
    "                collection.append([urls[url], data[i].text, data[i + 1].text])\n",
    "\n",
    "        # Create a dataframe\n",
    "        temp_df = pd.DataFrame(collection, columns=['country', 'date', 'user'])\n",
    "        temp_df['date'] = temp_df['date'].apply(lambda x: x[-4::])\n",
    "\n",
    "        # Filter by year if specified\n",
    "        if year:\n",
    "            temp_df = temp_df[temp_df['date'] == year]\n",
    "\n",
    "        # sanity check\n",
    "        print(f\"Country: {urls[url]}; status code {r.status_code}\\n\\tTotal edits: {len(temp_df)}\\n\\tUnique users: {temp_df['user'].nunique()}\\n\")\n",
    "        \n",
    "        # Concatenate dataframes\n",
    "        df = pd.concat([df, temp_df])\n",
    "    return df\n"
   ]
  },
  {
   "cell_type": "code",
   "execution_count": 4,
   "metadata": {},
   "outputs": [
    {
     "name": "stdout",
     "output_type": "stream",
     "text": [
      "Country: Germany; status code 200\n",
      "\tTotal edits: 296\n",
      "\tUnique users: 135\n",
      "\n",
      "Country: France; status code 200\n",
      "\tTotal edits: 401\n",
      "\tUnique users: 152\n",
      "\n",
      "Country: Italy; status code 200\n",
      "\tTotal edits: 601\n",
      "\tUnique users: 139\n",
      "\n",
      "Country: Spain; status code 200\n",
      "\tTotal edits: 375\n",
      "\tUnique users: 125\n",
      "\n",
      "Country: Poland; status code 200\n",
      "\tTotal edits: 530\n",
      "\tUnique users: 96\n",
      "\n"
     ]
    }
   ],
   "source": [
    "# params\n",
    "COUNTRIES = ['Germany', 'France', 'Italy', 'Spain', 'Poland']\n",
    "TAGS = ['a', 'span']\n",
    "CLASSES = {'class': ['mw-changeslist-date', 'mw-userlink']}\n",
    "LIMIT = 3000\n",
    "YEAR = '2019'\n",
    "URLS = [f'https://en.wikipedia.org/w/index.php?title={c}&action=history&offset=&limit={LIMIT}' for c in COUNTRIES]\n",
    "\n",
    "# dict of urls and country names for convenience\n",
    "URL_COUNTRY_DICT = dict(zip(URLS, COUNTRIES))\n",
    "\n",
    "df = parse_history_change_to_df(urls=URL_COUNTRY_DICT, tags=TAGS, attrs=CLASSES, year=YEAR)"
   ]
  },
  {
   "cell_type": "code",
   "execution_count": 5,
   "metadata": {},
   "outputs": [
    {
     "data": {
      "text/html": [
       "<div>\n",
       "<style scoped>\n",
       "    .dataframe tbody tr th:only-of-type {\n",
       "        vertical-align: middle;\n",
       "    }\n",
       "\n",
       "    .dataframe tbody tr th {\n",
       "        vertical-align: top;\n",
       "    }\n",
       "\n",
       "    .dataframe thead th {\n",
       "        text-align: right;\n",
       "    }\n",
       "</style>\n",
       "<table border=\"1\" class=\"dataframe\">\n",
       "  <thead>\n",
       "    <tr style=\"text-align: right;\">\n",
       "      <th></th>\n",
       "      <th>country</th>\n",
       "      <th>date</th>\n",
       "      <th>user</th>\n",
       "    </tr>\n",
       "  </thead>\n",
       "  <tbody>\n",
       "    <tr>\n",
       "      <th>1544</th>\n",
       "      <td>Germany</td>\n",
       "      <td>2019</td>\n",
       "      <td>Zutt</td>\n",
       "    </tr>\n",
       "    <tr>\n",
       "      <th>1545</th>\n",
       "      <td>Germany</td>\n",
       "      <td>2019</td>\n",
       "      <td>Monkbot</td>\n",
       "    </tr>\n",
       "    <tr>\n",
       "      <th>1546</th>\n",
       "      <td>Germany</td>\n",
       "      <td>2019</td>\n",
       "      <td>InternetArchiveBot</td>\n",
       "    </tr>\n",
       "    <tr>\n",
       "      <th>1547</th>\n",
       "      <td>Germany</td>\n",
       "      <td>2019</td>\n",
       "      <td>DDWilliams1</td>\n",
       "    </tr>\n",
       "    <tr>\n",
       "      <th>1548</th>\n",
       "      <td>Germany</td>\n",
       "      <td>2019</td>\n",
       "      <td>Bender the Bot</td>\n",
       "    </tr>\n",
       "    <tr>\n",
       "      <th>...</th>\n",
       "      <td>...</td>\n",
       "      <td>...</td>\n",
       "      <td>...</td>\n",
       "    </tr>\n",
       "    <tr>\n",
       "      <th>2721</th>\n",
       "      <td>Poland</td>\n",
       "      <td>2019</td>\n",
       "      <td>PrimaPrime</td>\n",
       "    </tr>\n",
       "    <tr>\n",
       "      <th>2722</th>\n",
       "      <td>Poland</td>\n",
       "      <td>2019</td>\n",
       "      <td>Haribanshnp</td>\n",
       "    </tr>\n",
       "    <tr>\n",
       "      <th>2723</th>\n",
       "      <td>Poland</td>\n",
       "      <td>2019</td>\n",
       "      <td>Radom1967</td>\n",
       "    </tr>\n",
       "    <tr>\n",
       "      <th>2724</th>\n",
       "      <td>Poland</td>\n",
       "      <td>2019</td>\n",
       "      <td>Powertranz</td>\n",
       "    </tr>\n",
       "    <tr>\n",
       "      <th>2725</th>\n",
       "      <td>Poland</td>\n",
       "      <td>2019</td>\n",
       "      <td>Radom1967</td>\n",
       "    </tr>\n",
       "  </tbody>\n",
       "</table>\n",
       "<p>2203 rows × 3 columns</p>\n",
       "</div>"
      ],
      "text/plain": [
       "      country  date                user\n",
       "1544  Germany  2019                Zutt\n",
       "1545  Germany  2019             Monkbot\n",
       "1546  Germany  2019  InternetArchiveBot\n",
       "1547  Germany  2019         DDWilliams1\n",
       "1548  Germany  2019      Bender the Bot\n",
       "...       ...   ...                 ...\n",
       "2721   Poland  2019          PrimaPrime\n",
       "2722   Poland  2019         Haribanshnp\n",
       "2723   Poland  2019           Radom1967\n",
       "2724   Poland  2019          Powertranz\n",
       "2725   Poland  2019           Radom1967\n",
       "\n",
       "[2203 rows x 3 columns]"
      ]
     },
     "execution_count": 5,
     "metadata": {},
     "output_type": "execute_result"
    }
   ],
   "source": [
    "df"
   ]
  },
  {
   "attachments": {},
   "cell_type": "markdown",
   "metadata": {},
   "source": [
    "<br><br>\n",
    "\n",
    "### Questions\n",
    "\n",
    "<br><br>\n",
    "\n",
    "**Question 1.** How many edits overall were made on pages of all the countries in 2019? "
   ]
  },
  {
   "cell_type": "code",
   "execution_count": 23,
   "metadata": {},
   "outputs": [
    {
     "data": {
      "text/plain": [
       "2203"
      ]
     },
     "execution_count": 23,
     "metadata": {},
     "output_type": "execute_result"
    }
   ],
   "source": [
    "answer_part_1 = len(df)\n",
    "answer_part_1"
   ]
  },
  {
   "attachments": {},
   "cell_type": "markdown",
   "metadata": {},
   "source": [
    "<br>\n",
    "\n",
    "**Question 2.** What is the highest number of edits per country in 2019 among all countries present? "
   ]
  },
  {
   "cell_type": "code",
   "execution_count": 24,
   "metadata": {},
   "outputs": [
    {
     "data": {
      "text/plain": [
       "601"
      ]
     },
     "execution_count": 24,
     "metadata": {},
     "output_type": "execute_result"
    }
   ],
   "source": [
    "# **Question 2.** What is the highest number of edits per country in 2019 among all countries present? \n",
    "answer_part_2 = max(df.groupby('country').count()['date'])\n",
    "answer_part_2"
   ]
  },
  {
   "attachments": {},
   "cell_type": "markdown",
   "metadata": {},
   "source": [
    "<br>\n",
    "\n",
    "**Question 3.** What is the lowest number of edits per country in 2019 among all countries present? "
   ]
  },
  {
   "cell_type": "code",
   "execution_count": 32,
   "metadata": {},
   "outputs": [
    {
     "data": {
      "text/plain": [
       "296"
      ]
     },
     "execution_count": 32,
     "metadata": {},
     "output_type": "execute_result"
    }
   ],
   "source": [
    "answer_part_3 = min(df.groupby('country').count()['date'])\n",
    "answer_part_3"
   ]
  },
  {
   "attachments": {},
   "cell_type": "markdown",
   "metadata": {},
   "source": [
    "<br>\n",
    "\n",
    "**Question 4.** How many users overall made edits on the countries' pages in 2019? "
   ]
  },
  {
   "cell_type": "code",
   "execution_count": 33,
   "metadata": {},
   "outputs": [
    {
     "data": {
      "text/plain": [
       "480"
      ]
     },
     "execution_count": 33,
     "metadata": {},
     "output_type": "execute_result"
    }
   ],
   "source": [
    "answer_part_4 = df.user.nunique()\n",
    "answer_part_4"
   ]
  },
  {
   "attachments": {},
   "cell_type": "markdown",
   "metadata": {},
   "source": [
    "<br>\n",
    "\n",
    "**Question 5.** What is the highest number of users made edits on country's page among all countries present in 2019? "
   ]
  },
  {
   "cell_type": "code",
   "execution_count": 34,
   "metadata": {},
   "outputs": [
    {
     "data": {
      "text/plain": [
       "152"
      ]
     },
     "execution_count": 34,
     "metadata": {},
     "output_type": "execute_result"
    }
   ],
   "source": [
    "answer_part_5 = df.groupby('country').aggregate({'user': 'nunique'})['user'].max()\n",
    "answer_part_5"
   ]
  },
  {
   "attachments": {},
   "cell_type": "markdown",
   "metadata": {},
   "source": [
    "<br><br>\n",
    "\n",
    "**Question 6.** What user made the most edits? "
   ]
  },
  {
   "cell_type": "code",
   "execution_count": 35,
   "metadata": {},
   "outputs": [
    {
     "data": {
      "text/plain": [
       "'Merangs'"
      ]
     },
     "execution_count": 35,
     "metadata": {},
     "output_type": "execute_result"
    }
   ],
   "source": [
    "answer_part_6 = df.groupby('user').count()['date'].idxmax()\n",
    "answer_part_6"
   ]
  },
  {
   "attachments": {},
   "cell_type": "markdown",
   "metadata": {},
   "source": [
    "<br>\n",
    "\n",
    "**Question 7.** What is average number of edits per day in 2019? "
   ]
  },
  {
   "cell_type": "code",
   "execution_count": 36,
   "metadata": {},
   "outputs": [
    {
     "data": {
      "text/plain": [
       "6.035616438356165"
      ]
     },
     "execution_count": 36,
     "metadata": {},
     "output_type": "execute_result"
    }
   ],
   "source": [
    "answer_part_7 = df.groupby('date').aggregate({'user': 'count'})['user'].sum() / 365\n",
    "answer_part_7"
   ]
  },
  {
   "attachments": {},
   "cell_type": "markdown",
   "metadata": {},
   "source": [
    "<br>\n",
    "\n",
    "**Question 8.** What is average number of edits per user in 2019? "
   ]
  },
  {
   "cell_type": "code",
   "execution_count": 37,
   "metadata": {},
   "outputs": [
    {
     "data": {
      "text/plain": [
       "4.589583333333334"
      ]
     },
     "execution_count": 37,
     "metadata": {},
     "output_type": "execute_result"
    }
   ],
   "source": [
    "answer_part_8 = df.groupby('user').count()['date'].mean()\n",
    "answer_part_8"
   ]
  },
  {
   "attachments": {},
   "cell_type": "markdown",
   "metadata": {},
   "source": [
    "<br>\n",
    "\n",
    "**Question 9.** What is average number of edits per day in the country with most edits in 2019? "
   ]
  },
  {
   "cell_type": "code",
   "execution_count": 38,
   "metadata": {},
   "outputs": [
    {
     "data": {
      "text/plain": [
       "1.6465753424657534"
      ]
     },
     "execution_count": 38,
     "metadata": {},
     "output_type": "execute_result"
    }
   ],
   "source": [
    "\n",
    "country_w_most_edits = df.groupby('country').count()['date'].idxmax()\n",
    "answer_part_9 = df.where(df['country'] == country_w_most_edits).groupby('date').count()['user'].mean() / 365\n",
    "answer_part_9"
   ]
  },
  {
   "attachments": {},
   "cell_type": "markdown",
   "metadata": {},
   "source": [
    "<br>\n",
    "\n",
    "**Question 10.** What is average number of edits per user in the country with most edits in 2019?"
   ]
  },
  {
   "cell_type": "code",
   "execution_count": 39,
   "metadata": {},
   "outputs": [
    {
     "data": {
      "text/plain": [
       "4.323741007194244"
      ]
     },
     "execution_count": 39,
     "metadata": {},
     "output_type": "execute_result"
    }
   ],
   "source": [
    "# **Question 10.** What is average number of edits per user in the country with most edits in 2019?\n",
    "answer_part_10 = df.where(df['country'] == country_w_most_edits).groupby('user').count()['date'].mean()\n",
    "answer_part_10"
   ]
  },
  {
   "attachments": {},
   "cell_type": "markdown",
   "metadata": {},
   "source": [
    "<br>\n",
    "<br>\n",
    "\n",
    "#### Submit your answers"
   ]
  }
 ],
 "metadata": {
  "kernelspec": {
   "display_name": "Python 3",
   "language": "python",
   "name": "python3"
  },
  "language_info": {
   "codemirror_mode": {
    "name": "ipython",
    "version": 3
   },
   "file_extension": ".py",
   "mimetype": "text/x-python",
   "name": "python",
   "nbconvert_exporter": "python",
   "pygments_lexer": "ipython3",
   "version": "3.9.12"
  }
 },
 "nbformat": 4,
 "nbformat_minor": 4
}
