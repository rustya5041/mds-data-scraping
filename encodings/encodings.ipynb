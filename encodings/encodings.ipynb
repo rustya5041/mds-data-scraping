{
 "cells": [
  {
   "attachments": {},
   "cell_type": "markdown",
   "metadata": {},
   "source": [
    "# Playing with Encodings\n",
    "\n",
    "## Week 1. Practice Programming Assignment 1\n",
    "\n",
    "In this assignment we will practice python encoding functions a bit."
   ]
  },
  {
   "attachments": {},
   "cell_type": "markdown",
   "metadata": {},
   "source": [
    "### Part 1. Number conversion"
   ]
  },
  {
   "attachments": {},
   "cell_type": "markdown",
   "metadata": {},
   "source": [
    "In this part you don't have to do anything but go through and submit an answer. Just checking that the grader works.\n",
    "\n",
    "<br><br>\n",
    "Let's look at a character 'h'."
   ]
  },
  {
   "cell_type": "code",
   "execution_count": null,
   "metadata": {},
   "outputs": [],
   "source": [
    "# If a symbol has a character number equal to 129414 in Unicode table, how would it be encoded in UTF-8? Enter the sequence of bits without whitespace characters.\n",
    "\n",
    "# Answer: 11100010 10000010 10000110\n",
    "# Explanation:\n",
    "\n",
    "\n"
   ]
  },
  {
   "cell_type": "code",
   "execution_count": 1,
   "metadata": {},
   "outputs": [
    {
     "data": {
      "text/plain": [
       "104"
      ]
     },
     "execution_count": 1,
     "metadata": {},
     "output_type": "execute_result"
    }
   ],
   "source": [
    "# we can find its code point number in decimal system\n",
    "ord('h')"
   ]
  },
  {
   "cell_type": "code",
   "execution_count": 1,
   "metadata": {},
   "outputs": [
    {
     "data": {
      "text/plain": [
       "'0x68'"
      ]
     },
     "execution_count": 1,
     "metadata": {},
     "output_type": "execute_result"
    }
   ],
   "source": [
    "# we can convert it into a hexadicmal form\n",
    "# remember, that '0x' is just a prefix, meaning that this is a hexadecimal form of a number\n",
    "hex(ord('h'))"
   ]
  },
  {
   "cell_type": "code",
   "execution_count": 4,
   "metadata": {},
   "outputs": [
    {
     "data": {
      "text/plain": [
       "104"
      ]
     },
     "execution_count": 4,
     "metadata": {},
     "output_type": "execute_result"
    }
   ],
   "source": [
    "# or we can conver it back to decimal\n",
    "int('68', 16)"
   ]
  },
  {
   "cell_type": "code",
   "execution_count": 5,
   "metadata": {},
   "outputs": [
    {
     "data": {
      "text/plain": [
       "'0b1101000'"
      ]
     },
     "execution_count": 5,
     "metadata": {},
     "output_type": "execute_result"
    }
   ],
   "source": [
    "# we can convert it into a binary form\n",
    "# remember, that '0b' is just a prefix, meaning that this is a binary form of a number\n",
    "bin(104)"
   ]
  },
  {
   "cell_type": "code",
   "execution_count": 6,
   "metadata": {},
   "outputs": [
    {
     "data": {
      "text/plain": [
       "104"
      ]
     },
     "execution_count": 6,
     "metadata": {},
     "output_type": "execute_result"
    }
   ],
   "source": [
    "# or back again\n",
    "int('1101000', 2)"
   ]
  },
  {
   "cell_type": "code",
   "execution_count": 7,
   "metadata": {},
   "outputs": [
    {
     "name": "stdout",
     "output_type": "stream",
     "text": [
      "h\n",
      "h\n",
      "h\n"
     ]
    }
   ],
   "source": [
    "# and we can print any character by its code point\n",
    "print('\\x68')\n",
    "print('\\u0068')\n",
    "print('\\U00000068')"
   ]
  },
  {
   "cell_type": "code",
   "execution_count": null,
   "metadata": {},
   "outputs": [],
   "source": [
    "print()"
   ]
  },
  {
   "cell_type": "code",
   "execution_count": 218,
   "metadata": {},
   "outputs": [
    {
     "data": {
      "text/plain": [
       "('11111100110000110', b'\\xf0\\x9f\\xa6\\x86')"
      ]
     },
     "execution_count": 218,
     "metadata": {},
     "output_type": "execute_result"
    }
   ],
   "source": [
    "import unicodedata\n",
    "# If a symbol has a character number equal to 129414 in Unicode table, how would it be encoded in UTF-8? Enter the sequence of bits without whitespace characters.\n",
    "\n",
    "# Step 1 - binary form\n",
    "binary_form = bin(129414)\n",
    "\n",
    "# Step 2 - compare binary and encoded forms\n",
    "binary_form[2:], '🦆'.encode('utf-8')"
   ]
  },
  {
   "cell_type": "code",
   "execution_count": 275,
   "metadata": {},
   "outputs": [
    {
     "name": "stdout",
     "output_type": "stream",
     "text": [
      "4 16\n"
     ]
    }
   ],
   "source": [
    "print(len('\\xd0\\xb4\\xd0\\xb0'), len('/xd0/xb4/xd0/xb0'))\n"
   ]
  },
  {
   "cell_type": "code",
   "execution_count": 223,
   "metadata": {},
   "outputs": [
    {
     "name": "stdout",
     "output_type": "stream",
     "text": [
      "11110000 10011111 10100110 10000110\n",
      "11110000100111111010011010000110\n"
     ]
    }
   ],
   "source": [
    "encoded = bin(int('f0', 16)), bin(int('9f', 16)), bin(int('a6', 16)), bin(int('86', 16))\n",
    "# remove leading 0b\n",
    "\n",
    "# Join\n",
    "encoded = ' '.join(encoded)\n",
    "\n",
    "# Remove leading 0b\n",
    "encoded = encoded.replace('0b', '')\n",
    "print(encoded)\n",
    "\n",
    "# Remove whitespaces\n",
    "encoded = encoded.replace(' ', '')\n",
    "print(encoded)"
   ]
  },
  {
   "cell_type": "code",
   "execution_count": 4,
   "metadata": {},
   "outputs": [
    {
     "name": "stdout",
     "output_type": "stream",
     "text": [
      "1101000010101011\n"
     ]
    }
   ],
   "source": [
    "# If a symbol has a code point equal to U+042B in Unicode table, how would it be encoded in UTF-8? Enter the sequence of bits without whitespace characters\n",
    "\n",
    "# Identify character\n",
    "char = chr(0x042B)\n",
    "\n",
    "# Step 1 - binary form\n",
    "binary_form = bin(0x042B)\n",
    "\n",
    "# Step 2 - compare binary and encoded forms\n",
    "binary_form[2:], char.encode('utf-8')\n",
    "\n",
    "encoded = bin(int('d0', 16)), bin(int('ab', 16))\n",
    "# remove leading 0b\n",
    "encoded = encoded[0][2:], encoded[1][2:]\n",
    "\n",
    "# Join\n",
    "encoded = ' '.join(encoded)\n",
    "\n",
    "# Remove leading 0b\n",
    "encoded = encoded.replace('0b', '')\n",
    "\n",
    "# Remove whitespaces\n",
    "encoded = encoded.replace(' ', '')\n",
    "print(encoded)"
   ]
  },
  {
   "cell_type": "code",
   "execution_count": 3,
   "metadata": {},
   "outputs": [
    {
     "data": {
      "text/plain": [
       "'Ы'"
      ]
     },
     "execution_count": 3,
     "metadata": {},
     "output_type": "execute_result"
    }
   ],
   "source": [
    "import unicodedata\n",
    "chr(0x042B)"
   ]
  },
  {
   "cell_type": "code",
   "execution_count": 262,
   "metadata": {},
   "outputs": [],
   "source": [
    "# Enter the character, that is encoded as 01110001 in ASCII."
   ]
  },
  {
   "cell_type": "code",
   "execution_count": 95,
   "metadata": {},
   "outputs": [
    {
     "data": {
      "text/plain": [
       "'0b10000010101100'"
      ]
     },
     "execution_count": 95,
     "metadata": {},
     "output_type": "execute_result"
    }
   ],
   "source": [
    "# find code point of the Euro sign\n",
    "ord('€')\n",
    "\n",
    "hex(ord('€'))\n",
    "\n",
    "bin(8364)"
   ]
  },
  {
   "cell_type": "code",
   "execution_count": 64,
   "metadata": {},
   "outputs": [
    {
     "name": "stdout",
     "output_type": "stream",
     "text": [
      "🦆\n"
     ]
    }
   ],
   "source": [
    "mes = b\"\\xf0\\x9f\\xa6\\x86\"\n",
    "\n",
    "print(mes.decode('utf-8'))"
   ]
  },
  {
   "cell_type": "code",
   "execution_count": 22,
   "metadata": {},
   "outputs": [
    {
     "name": "stdout",
     "output_type": "stream",
     "text": [
      "🦆\n"
     ]
    }
   ],
   "source": [
    "print(u\"\\U0001F986\")"
   ]
  },
  {
   "cell_type": "code",
   "execution_count": 35,
   "metadata": {},
   "outputs": [
    {
     "data": {
      "text/plain": [
       "'0x68'"
      ]
     },
     "execution_count": 35,
     "metadata": {},
     "output_type": "execute_result"
    }
   ],
   "source": [
    "# What is letter 'h' code point number in hexadecimal form?\n",
    "hex(ord('h'))"
   ]
  },
  {
   "cell_type": "code",
   "execution_count": 36,
   "metadata": {},
   "outputs": [
    {
     "data": {
      "text/plain": [
       "'0b1101000'"
      ]
     },
     "execution_count": 36,
     "metadata": {},
     "output_type": "execute_result"
    }
   ],
   "source": [
    "# What is letter 'h' code point number in binary form?\n",
    "bin(ord('h'))"
   ]
  },
  {
   "attachments": {},
   "cell_type": "markdown",
   "metadata": {},
   "source": [
    "<br><br><br>\n",
    "### Part 2. Decoding secret messages"
   ]
  },
  {
   "attachments": {},
   "cell_type": "markdown",
   "metadata": {},
   "source": [
    "In this part you are given several byte-strings. These are some messages encoded by some of the encodings covered in lectures. I suggest you to try different encodings to decode the messages until you will get some meaningful result. The results should be submited via grader."
   ]
  },
  {
   "attachments": {},
   "cell_type": "markdown",
   "metadata": {},
   "source": [
    "<br>"
   ]
  },
  {
   "cell_type": "code",
   "execution_count": 11,
   "metadata": {},
   "outputs": [],
   "source": [
    "secret_message_1 = b'\\xff\\xfeY\\x00e\\x00a\\x00h\\x00s\\x00!\\x00 \\x00I\\x00 '\\\n",
    "                   b'\\x00d\\x00e\\x00c\\x00o\\x00d\\x00e\\x00d\\x00 \\x00t\\x00h\\x00e\\x00 '\\\n",
    "                   b'\\x00s\\x00e\\x00c\\x00r\\x00e\\x00t\\x00 \\x00m\\x00e\\x00s\\x00s\\x00a'\\\n",
    "                   b'\\x00g\\x00e\\x00'"
   ]
  },
  {
   "cell_type": "code",
   "execution_count": 45,
   "metadata": {},
   "outputs": [
    {
     "name": "stdout",
     "output_type": "stream",
     "text": [
      "яюY\u0000e\u0000a\u0000h\u0000s\u0000!\u0000 \u0000I\u0000 \u0000d\u0000e\u0000c\u0000o\u0000d\u0000e\u0000d\u0000 \u0000t\u0000h\u0000e\u0000 \u0000s\u0000e\u0000c\u0000r\u0000e\u0000t\u0000 \u0000m\u0000e\u0000s\u0000s\u0000a\u0000g\u0000e\u0000\n"
     ]
    }
   ],
   "source": [
    "print(secret_message_1.decode('cp1251'))"
   ]
  },
  {
   "cell_type": "code",
   "execution_count": 26,
   "metadata": {},
   "outputs": [
    {
     "name": "stdout",
     "output_type": "stream",
     "text": [
      "Error utf-8\n",
      "яюY\u0000e\u0000a\u0000h\u0000s\u0000!\u0000 \u0000I\u0000 \u0000d\u0000e\u0000c\u0000o\u0000d\u0000e\u0000d\u0000 \u0000t\u0000h\u0000e\u0000 \u0000s\u0000e\u0000c\u0000r\u0000e\u0000t\u0000 \u0000m\u0000e\u0000s\u0000s\u0000a\u0000g\u0000e\u0000\n",
      "ÿþY\u0000e\u0000a\u0000h\u0000s\u0000!\u0000 \u0000I\u0000 \u0000d\u0000e\u0000c\u0000o\u0000d\u0000e\u0000d\u0000 \u0000t\u0000h\u0000e\u0000 \u0000s\u0000e\u0000c\u0000r\u0000e\u0000t\u0000 \u0000m\u0000e\u0000s\u0000s\u0000a\u0000g\u0000e\u0000\n",
      "ÿþY\u0000e\u0000a\u0000h\u0000s\u0000!\u0000 \u0000I\u0000 \u0000d\u0000e\u0000c\u0000o\u0000d\u0000e\u0000d\u0000 \u0000t\u0000h\u0000e\u0000 \u0000s\u0000e\u0000c\u0000r\u0000e\u0000t\u0000 \u0000m\u0000e\u0000s\u0000s\u0000a\u0000g\u0000e\u0000\n",
      "Error GB2312\n"
     ]
    }
   ],
   "source": [
    "ENCODINGS = ['utf-8', 'cp1251', 'ISO-8859-1', 'cp1252', 'GB2312']\n",
    "\n",
    "# decode secrete message 1\n",
    "for encoding in ENCODINGS:\n",
    "    try:\n",
    "        print(secret_message_1.decode(encoding))\n",
    "    except UnicodeDecodeError:\n",
    "        print('Error', encoding)\n",
    "        pass"
   ]
  },
  {
   "cell_type": "code",
   "execution_count": 27,
   "metadata": {},
   "outputs": [],
   "source": [
    "# you can put decoded message here and submit it\n",
    "answer_part_3 = 'Yeahs! I decoded the secret message'"
   ]
  },
  {
   "attachments": {},
   "cell_type": "markdown",
   "metadata": {},
   "source": [
    "<br>"
   ]
  },
  {
   "cell_type": "code",
   "execution_count": 28,
   "metadata": {},
   "outputs": [],
   "source": [
    "secret_message_2 = b\"\\xff\\xfe\\x00\\x00T\\x00\\x00\\x00o\\x00\\x00\\x00 \"\\\n",
    "                   b\"\\x00\\x00\\x00d\\x00\\x00\\x00e\\x00\\x00\\x00c\\x00\"\\\n",
    "                   b\"\\x00\\x00o\\x00\\x00\\x00d\\x00\\x00\\x00e\\x00\\x00\"\\\n",
    "                   b\"\\x00 \\x00\\x00\\x00t\\x00\\x00\\x00h\\x00\\x00\\x00e\"\\\n",
    "                   b\"\\x00\\x00\\x00 \\x00\\x00\\x00t\\x00\\x00\\x00h\\x00\"\\\n",
    "                   b\"\\x00\\x00i\\x00\\x00\\x00r\\x00\\x00\\x00d\\x00\\x00\"\\\n",
    "                   b\"\\x00 \\x00\\x00\\x00s\\x00\\x00\\x00e\\x00\\x00\\x00c\"\\\n",
    "                   b\"\\x00\\x00\\x00r\\x00\\x00\\x00e\\x00\\x00\\x00t\\x00\\x00\"\\\n",
    "                   b\"\\x00 \\x00\\x00\\x00m\\x00\\x00\\x00e\\x00\\x00\\x00s\\x00\"\\\n",
    "                   b\"\\x00\\x00s\\x00\\x00\\x00a\\x00\\x00\\x00g\\x00\\x00\\x00e\\x00\"\\\n",
    "                   b\"\\x00\\x00 \\x00\\x00\\x00y\\x00\\x00\\x00o\\x00\\x00\\x00u\\x00\\x00\"\\\n",
    "                   b\"\\x00 \\x00\\x00\\x00s\\x00\\x00\\x00h\\x00\\x00\\x00o\\x00\\x00\\x00u\"\\\n",
    "                   b\"\\x00\\x00\\x00l\\x00\\x00\\x00d\\x00\\x00\\x00 \\x00\\x00\\x00u\\x00\\x00\"\\\n",
    "                   b\"\\x00s\\x00\\x00\\x00e\\x00\\x00\\x00 \\x00\\x00\\x00'\\x00\\x00\\x00s\\x00\"\\\n",
    "                   b\"\\x00\\x00h\\x00\\x00\\x00i\\x00\\x00\\x00f\\x00\\x00\\x00t\\x00\\x00\"\\\n",
    "                   b\"\\x00_\\x00\\x00\\x00j\\x00\\x00\\x00i\\x00\\x00\\x00s\\x00\\x00\"\\\n",
    "                   b\"\\x00'\\x00\\x00\\x00 \\x00\\x00\\x00e\\x00\\x00\\x00n\\x00\\x00\\x00c\\x00\"\\\n",
    "                   b\"\\x00\\x00o\\x00\\x00\\x00d\\x00\\x00\\x00i\\x00\\x00\\x00n\\x00\\x00\\x00g\\x00\\x00\\x00\""
   ]
  },
  {
   "cell_type": "code",
   "execution_count": 29,
   "metadata": {},
   "outputs": [
    {
     "name": "stdout",
     "output_type": "stream",
     "text": [
      "Error utf-8\n",
      "яю\u0000\u0000T\u0000\u0000\u0000o\u0000\u0000\u0000 \u0000\u0000\u0000d\u0000\u0000\u0000e\u0000\u0000\u0000c\u0000\u0000\u0000o\u0000\u0000\u0000d\u0000\u0000\u0000e\u0000\u0000\u0000 \u0000\u0000\u0000t\u0000\u0000\u0000h\u0000\u0000\u0000e\u0000\u0000\u0000 \u0000\u0000\u0000t\u0000\u0000\u0000h\u0000\u0000\u0000i\u0000\u0000\u0000r\u0000\u0000\u0000d\u0000\u0000\u0000 \u0000\u0000\u0000s\u0000\u0000\u0000e\u0000\u0000\u0000c\u0000\u0000\u0000r\u0000\u0000\u0000e\u0000\u0000\u0000t\u0000\u0000\u0000 \u0000\u0000\u0000m\u0000\u0000\u0000e\u0000\u0000\u0000s\u0000\u0000\u0000s\u0000\u0000\u0000a\u0000\u0000\u0000g\u0000\u0000\u0000e\u0000\u0000\u0000 \u0000\u0000\u0000y\u0000\u0000\u0000o\u0000\u0000\u0000u\u0000\u0000\u0000 \u0000\u0000\u0000s\u0000\u0000\u0000h\u0000\u0000\u0000o\u0000\u0000\u0000u\u0000\u0000\u0000l\u0000\u0000\u0000d\u0000\u0000\u0000 \u0000\u0000\u0000u\u0000\u0000\u0000s\u0000\u0000\u0000e\u0000\u0000\u0000 \u0000\u0000\u0000'\u0000\u0000\u0000s\u0000\u0000\u0000h\u0000\u0000\u0000i\u0000\u0000\u0000f\u0000\u0000\u0000t\u0000\u0000\u0000_\u0000\u0000\u0000j\u0000\u0000\u0000i\u0000\u0000\u0000s\u0000\u0000\u0000'\u0000\u0000\u0000 \u0000\u0000\u0000e\u0000\u0000\u0000n\u0000\u0000\u0000c\u0000\u0000\u0000o\u0000\u0000\u0000d\u0000\u0000\u0000i\u0000\u0000\u0000n\u0000\u0000\u0000g\u0000\u0000\u0000\n",
      "ÿþ\u0000\u0000T\u0000\u0000\u0000o\u0000\u0000\u0000 \u0000\u0000\u0000d\u0000\u0000\u0000e\u0000\u0000\u0000c\u0000\u0000\u0000o\u0000\u0000\u0000d\u0000\u0000\u0000e\u0000\u0000\u0000 \u0000\u0000\u0000t\u0000\u0000\u0000h\u0000\u0000\u0000e\u0000\u0000\u0000 \u0000\u0000\u0000t\u0000\u0000\u0000h\u0000\u0000\u0000i\u0000\u0000\u0000r\u0000\u0000\u0000d\u0000\u0000\u0000 \u0000\u0000\u0000s\u0000\u0000\u0000e\u0000\u0000\u0000c\u0000\u0000\u0000r\u0000\u0000\u0000e\u0000\u0000\u0000t\u0000\u0000\u0000 \u0000\u0000\u0000m\u0000\u0000\u0000e\u0000\u0000\u0000s\u0000\u0000\u0000s\u0000\u0000\u0000a\u0000\u0000\u0000g\u0000\u0000\u0000e\u0000\u0000\u0000 \u0000\u0000\u0000y\u0000\u0000\u0000o\u0000\u0000\u0000u\u0000\u0000\u0000 \u0000\u0000\u0000s\u0000\u0000\u0000h\u0000\u0000\u0000o\u0000\u0000\u0000u\u0000\u0000\u0000l\u0000\u0000\u0000d\u0000\u0000\u0000 \u0000\u0000\u0000u\u0000\u0000\u0000s\u0000\u0000\u0000e\u0000\u0000\u0000 \u0000\u0000\u0000'\u0000\u0000\u0000s\u0000\u0000\u0000h\u0000\u0000\u0000i\u0000\u0000\u0000f\u0000\u0000\u0000t\u0000\u0000\u0000_\u0000\u0000\u0000j\u0000\u0000\u0000i\u0000\u0000\u0000s\u0000\u0000\u0000'\u0000\u0000\u0000 \u0000\u0000\u0000e\u0000\u0000\u0000n\u0000\u0000\u0000c\u0000\u0000\u0000o\u0000\u0000\u0000d\u0000\u0000\u0000i\u0000\u0000\u0000n\u0000\u0000\u0000g\u0000\u0000\u0000\n",
      "ÿþ\u0000\u0000T\u0000\u0000\u0000o\u0000\u0000\u0000 \u0000\u0000\u0000d\u0000\u0000\u0000e\u0000\u0000\u0000c\u0000\u0000\u0000o\u0000\u0000\u0000d\u0000\u0000\u0000e\u0000\u0000\u0000 \u0000\u0000\u0000t\u0000\u0000\u0000h\u0000\u0000\u0000e\u0000\u0000\u0000 \u0000\u0000\u0000t\u0000\u0000\u0000h\u0000\u0000\u0000i\u0000\u0000\u0000r\u0000\u0000\u0000d\u0000\u0000\u0000 \u0000\u0000\u0000s\u0000\u0000\u0000e\u0000\u0000\u0000c\u0000\u0000\u0000r\u0000\u0000\u0000e\u0000\u0000\u0000t\u0000\u0000\u0000 \u0000\u0000\u0000m\u0000\u0000\u0000e\u0000\u0000\u0000s\u0000\u0000\u0000s\u0000\u0000\u0000a\u0000\u0000\u0000g\u0000\u0000\u0000e\u0000\u0000\u0000 \u0000\u0000\u0000y\u0000\u0000\u0000o\u0000\u0000\u0000u\u0000\u0000\u0000 \u0000\u0000\u0000s\u0000\u0000\u0000h\u0000\u0000\u0000o\u0000\u0000\u0000u\u0000\u0000\u0000l\u0000\u0000\u0000d\u0000\u0000\u0000 \u0000\u0000\u0000u\u0000\u0000\u0000s\u0000\u0000\u0000e\u0000\u0000\u0000 \u0000\u0000\u0000'\u0000\u0000\u0000s\u0000\u0000\u0000h\u0000\u0000\u0000i\u0000\u0000\u0000f\u0000\u0000\u0000t\u0000\u0000\u0000_\u0000\u0000\u0000j\u0000\u0000\u0000i\u0000\u0000\u0000s\u0000\u0000\u0000'\u0000\u0000\u0000 \u0000\u0000\u0000e\u0000\u0000\u0000n\u0000\u0000\u0000c\u0000\u0000\u0000o\u0000\u0000\u0000d\u0000\u0000\u0000i\u0000\u0000\u0000n\u0000\u0000\u0000g\u0000\u0000\u0000\n",
      "Error GB2312\n"
     ]
    }
   ],
   "source": [
    "for encoding in ENCODINGS:\n",
    "    try:\n",
    "        print(secret_message_2.decode(encoding))\n",
    "    except UnicodeDecodeError:\n",
    "        print('Error', encoding)\n",
    "        pass"
   ]
  },
  {
   "cell_type": "code",
   "execution_count": 30,
   "metadata": {},
   "outputs": [],
   "source": [
    "# you can put decoded message here and submit it\n",
    "answer_part_4 = \"To decode the third secret message you should use 'shift_jis' encoding\""
   ]
  },
  {
   "attachments": {},
   "cell_type": "markdown",
   "metadata": {},
   "source": [
    "<br>"
   ]
  },
  {
   "cell_type": "code",
   "execution_count": 31,
   "metadata": {},
   "outputs": [],
   "source": [
    "secret_message_3 = b'\\x83n\\x83\\x8d\\x81[\\x83\\x8f\\x81[\\x83\\x8b\\x83h'"
   ]
  },
  {
   "cell_type": "code",
   "execution_count": 47,
   "metadata": {},
   "outputs": [
    {
     "name": "stdout",
     "output_type": "stream",
     "text": [
      "ハローワールド\n"
     ]
    }
   ],
   "source": [
    "print(secret_message_3.decode('shift_jis'))"
   ]
  },
  {
   "cell_type": "code",
   "execution_count": 48,
   "metadata": {},
   "outputs": [],
   "source": [
    "# you can put decoded message here and submit it\n",
    "answer_part_5 = \"ハローワールド\""
   ]
  },
  {
   "cell_type": "code",
   "execution_count": null,
   "metadata": {},
   "outputs": [],
   "source": []
  }
 ],
 "metadata": {
  "kernelspec": {
   "display_name": "Python 3",
   "language": "python",
   "name": "python3"
  },
  "language_info": {
   "codemirror_mode": {
    "name": "ipython",
    "version": 3
   },
   "file_extension": ".py",
   "mimetype": "text/x-python",
   "name": "python",
   "nbconvert_exporter": "python",
   "pygments_lexer": "ipython3",
   "version": "3.9.12"
  }
 },
 "nbformat": 4,
 "nbformat_minor": 4
}
