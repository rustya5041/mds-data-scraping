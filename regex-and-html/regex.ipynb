{
 "cells": [
  {
   "cell_type": "code",
   "execution_count": 1,
   "metadata": {},
   "outputs": [],
   "source": [
    "import regex as re\n"
   ]
  },
  {
   "cell_type": "code",
   "execution_count": 8,
   "metadata": {},
   "outputs": [
    {
     "name": "stdout",
     "output_type": "stream",
     "text": [
      "['an', 'apple']\n"
     ]
    }
   ],
   "source": [
    "# Implement a pattern, that matches any word, that contains lowercase 'a' letter.\n",
    "# Example: A pattern should match\n",
    "# All words containing \"a\" in string 'this is an apple!\"\n",
    "p = re.compile(r'\\w*a\\w*')\n",
    "print(p.findall('this is an apple!'))\n"
   ]
  },
  {
   "cell_type": "code",
   "execution_count": 3,
   "metadata": {},
   "outputs": [],
   "source": [
    "# Implement a pattern, that matches any sequence of digits of any length.\n",
    "p = re.compile(r'\\d+')"
   ]
  },
  {
   "cell_type": "code",
   "execution_count": 4,
   "metadata": {},
   "outputs": [],
   "source": [
    "# Implement a pattern, that matches a date in format YYYY-MM-DD:\n",
    "p = re.compile(\"((1[0-9]{3,3}|2[0-9]{3,3})-(0[1-9]|1[0-2])-(0[1-9]|1[0-9]|2[0-9]|3[01]))\")"
   ]
  },
  {
   "cell_type": "code",
   "execution_count": null,
   "metadata": {},
   "outputs": [],
   "source": [
    "# Implement a pattern, that matches a word 'hello' or a word 'Hello' and a match can not be a substring of some other word).\n",
    "p = re.compile(r'\\b[Hh]ello\\b')\n"
   ]
  },
  {
   "cell_type": "code",
   "execution_count": 19,
   "metadata": {},
   "outputs": [
    {
     "name": "stdout",
     "output_type": "stream",
     "text": [
      "['123', '-456', '789']\n"
     ]
    }
   ],
   "source": [
    "# Implement a pattern, that matches integers (both positive and negative).\n",
    "p = re.compile(r'-?\\d+')\n",
    "print(p.findall('123 -456 789'))\n"
   ]
  },
  {
   "cell_type": "code",
   "execution_count": 27,
   "metadata": {},
   "outputs": [
    {
     "name": "stdout",
     "output_type": "stream",
     "text": [
      "['123', '456', '789', '123.456', '789.123']\n"
     ]
    }
   ],
   "source": [
    "# Implement a pattern, that matches positive real numbers (All positive numbers in string, including decimal)\n",
    "\n",
    "p = re.compile('[\\d]+[.\\d]*')\n",
    "print(p.findall('123 -456 789 123.456 789.123'))\n"
   ]
  },
  {
   "cell_type": "code",
   "execution_count": 34,
   "metadata": {},
   "outputs": [],
   "source": [
    "# Implement a pattern, that matches time in 24-hour format: HH:MM.\n",
    "# A pattern should match time: \"At 17:00, or at 14:00, or at 25:61\".\n",
    "# There could be an optional leading 0 for early hours: \"At 4:30 or 04:30\".\n",
    "\n",
    "p = re.compile(r'\\b([0-1]?[0-9]|2[0-3]):([0-5][0-9])\\b')"
   ]
  },
  {
   "cell_type": "code",
   "execution_count": 2,
   "metadata": {},
   "outputs": [],
   "source": [
    "# Implement a pattern, that matches a date in format YYYY-MM-DD:\n",
    "# All appropriate dates: \"It was a long time ago. In 1888-01-01 or in 2001-01-01 or in 1999-13-40.\"\n",
    "# You can account for the actual number of days for each month, or you can specify the same number of days for all months.\n",
    "\n",
    "p = re.compile(\"((1[0-9]{3,3}|2[0-9]{3,3})-(0[1-9]|1[0-2])-(0[1-9]|1[0-9]|2[0-9]|3[01]))\")"
   ]
  },
  {
   "cell_type": "code",
   "execution_count": null,
   "metadata": {},
   "outputs": [],
   "source": [
    "# Implement a pattern, that matches an appropriate username. By username here we mean a string of 3 to 16 alphanumeric characters. \n",
    "# A username can also contain symbols '-' or '_'.\n",
    "\n",
    "p = re.compile(r'\\b[a-zA-Z0-9_-]{3,16}\\b')\n"
   ]
  },
  {
   "cell_type": "code",
   "execution_count": null,
   "metadata": {},
   "outputs": [],
   "source": [
    "# Implement a pattern, that matches an e-mail address. In this problem an e-mail address is expected to have several properties:\n",
    "# It has \"@\" symbol\n",
    "# Local-part (before \"@\"-symbol) is alphanumeric, but also can contain symbols \"_\", \"-\" and \".\"\n",
    "# It has a domain part (after \"@\"-symbol). The domain part may consists of several literal dot-separated parts.\n",
    "# The letters are lowercase.\n",
    "# Example: A pattern should match\n",
    "# all e-mail addresses in a string \"Hi! I am writing to you from example@example.com to hello@bye.com.org\".\n",
    "\n",
    "p = re.compile(r'\\b[a-z0-9._-]+@[a-z0-9.-]+\\.[a-z]{2,4}\\b')"
   ]
  },
  {
   "cell_type": "code",
   "execution_count": null,
   "metadata": {},
   "outputs": [],
   "source": [
    "# Implement a pattern, that matches an IP address (of IPv4 form). IP address has several properties:\n",
    "# There are 4 dot-separated numerical parts.\n",
    "# Numerical part can be any number from 0 to 255.\n",
    "\n",
    "p = re.compile(r'\\b((25[0-5]|2[0-4][0-9]|[01]?[0-9][0-9]?)(\\.)){3}(25[0-5]|2[0-4][0-9]|[01]?[0-9][0-9]?)\\b')\n",
    "\n",
    "\n",
    "\n"
   ]
  },
  {
   "cell_type": "code",
   "execution_count": null,
   "metadata": {},
   "outputs": [],
   "source": [
    "# Implement a pattern, that matches HTTP-links. A link starts with \"http://\" or \"https://\". A link also has a domain part. Domain part can contain alphanumeric characters and a hyphen '-'. There are at least two domain parts in a proper link (www.google.com, hello123.com.org, 2000.com). It may have a relative-path part after the domain part. A relative path is forward-slash \"/\"-separated alphanumeric (also may include dots '.', hyphens '-' and underscore '_') sequence of chars.\n",
    "\n",
    "p = re.compile(\"((http://|https://)[\\w-]+\\.[\\w-]+[/\\w._-]+)\")\n",
    "\n",
    "# or\n"
   ]
  }
 ],
 "metadata": {
  "kernelspec": {
   "display_name": "base",
   "language": "python",
   "name": "python3"
  },
  "language_info": {
   "codemirror_mode": {
    "name": "ipython",
    "version": 3
   },
   "file_extension": ".py",
   "mimetype": "text/x-python",
   "name": "python",
   "nbconvert_exporter": "python",
   "pygments_lexer": "ipython3",
   "version": "3.9.12"
  },
  "orig_nbformat": 4
 },
 "nbformat": 4,
 "nbformat_minor": 2
}
