{
 "cells": [
  {
   "attachments": {},
   "cell_type": "markdown",
   "metadata": {},
   "source": [
    "# Using HackerNews API"
   ]
  },
  {
   "attachments": {},
   "cell_type": "markdown",
   "metadata": {},
   "source": [
    "## Week 8. Practice Programming Assignment 1"
   ]
  },
  {
   "attachments": {},
   "cell_type": "markdown",
   "metadata": {},
   "source": [
    "In this assignment we going to work with [HackerNews](https://news.ycombinator.com/). You are required to use its [API](https://github.com/HackerNews/API) to get all items from 2007-04-01 00:01 to 2007-04-07 23:59, and then use the data to answer questions you will find below."
   ]
  },
  {
   "attachments": {},
   "cell_type": "markdown",
   "metadata": {},
   "source": [
    "<br><br><br><br>"
   ]
  },
  {
   "attachments": {},
   "cell_type": "markdown",
   "metadata": {},
   "source": [
    "### Coding part"
   ]
  },
  {
   "cell_type": "code",
   "execution_count": 1,
   "metadata": {},
   "outputs": [],
   "source": [
    "# you can start your web-scraping here\n",
    "import requests\n",
    "import pandas as pd\n",
    "import datetime as dt\n",
    "\n",
    "date_start = 1175385601\n",
    "date_end = 1175990340\n"
   ]
  },
  {
   "cell_type": "code",
   "execution_count": 2,
   "metadata": {},
   "outputs": [
    {
     "name": "stdout",
     "output_type": "stream",
     "text": [
      "Min: 7500\n",
      "Max: 11000\n"
     ]
    }
   ],
   "source": [
    "# How many stories were created during the 01 April 2007 - 07 April 2007?\n",
    "\n",
    "\n",
    "def find_min_and_max_suitable_item_id(fr, to):\n",
    "    mini, maxi = 0, 0\n",
    "\n",
    "    for i in range(fr, to, 500):\n",
    "        url = f\"https://hacker-news.firebaseio.com/v0/item/{i}.json\"\n",
    "        response = requests.get(url)\n",
    "        data = response.json()\n",
    "        if data['time'] >= date_start:\n",
    "            mini = i-500\n",
    "            break\n",
    "\n",
    "    for j in range(i, 1000000, 500):\n",
    "        url = f\"https://hacker-news.firebaseio.com/v0/item/{j}.json\"\n",
    "        response = requests.get(url)\n",
    "        data = response.json()\n",
    "        if data['time'] > date_end:\n",
    "            maxi = j+500\n",
    "            break\n",
    "\n",
    "    return mini, maxi\n",
    "\n",
    "min_suitable_item_id, max_sutiable_item_id = find_min_and_max_suitable_item_id(500, 15000)\n",
    "\n",
    "print(f\"Min: {min_suitable_item_id}\\nMax: {max_sutiable_item_id}\")"
   ]
  },
  {
   "cell_type": "code",
   "execution_count": 145,
   "metadata": {},
   "outputs": [],
   "source": [
    "# this code queries the api and returns the data in json format\n",
    "\n",
    "stories = []\n",
    "\n",
    "for i in range(min_suitable_item_id, max_sutiable_item_id):\n",
    "    url = f\"https://hacker-news.firebaseio.com/v0/item/{i}.json\"\n",
    "    response = requests.get(url)\n",
    "    data = response.json()\n",
    "    if data['type'] == 'story' and data is not None and data['time'] >= date_start and data['time'] <= date_end:\n",
    "        stories.append(data)"
   ]
  },
  {
   "cell_type": "code",
   "execution_count": 19,
   "metadata": {},
   "outputs": [
    {
     "data": {
      "text/plain": [
       "487"
      ]
     },
     "execution_count": 19,
     "metadata": {},
     "output_type": "execute_result"
    }
   ],
   "source": [
    "stories = pd.read_json('stories.json')\n",
    "comments = pd.read_json('comments.json')"
   ]
  },
  {
   "attachments": {},
   "cell_type": "markdown",
   "metadata": {},
   "source": [
    "<br><br>\n",
    "\n",
    "### Questions\n",
    "\n",
    "<br><br>\n",
    "\n",
    "**Question 1.** How many stories were created during the period??"
   ]
  },
  {
   "cell_type": "code",
   "execution_count": 20,
   "metadata": {},
   "outputs": [
    {
     "data": {
      "text/plain": [
       "487"
      ]
     },
     "execution_count": 20,
     "metadata": {},
     "output_type": "execute_result"
    }
   ],
   "source": [
    "answer_part_1 = len(stories)\n",
    "answer_part_1\n"
   ]
  },
  {
   "attachments": {},
   "cell_type": "markdown",
   "metadata": {},
   "source": [
    "<br>\n",
    "\n",
    "**Question 2.** What was the length of the longest story?"
   ]
  },
  {
   "cell_type": "code",
   "execution_count": 23,
   "metadata": {},
   "outputs": [
    {
     "data": {
      "text/plain": [
       "445"
      ]
     },
     "execution_count": 23,
     "metadata": {},
     "output_type": "execute_result"
    }
   ],
   "source": [
    "# find max descendants\n",
    "max_desc = stories.descendants.max()\n",
    "\n",
    "answer_part_2 = max_desc\n",
    "answer_part_2"
   ]
  },
  {
   "attachments": {},
   "cell_type": "markdown",
   "metadata": {},
   "source": [
    "<br>\n",
    "\n",
    "**Question 3.** What user left the most comments?"
   ]
  },
  {
   "cell_type": "code",
   "execution_count": 37,
   "metadata": {},
   "outputs": [
    {
     "data": {
      "text/plain": [
       "'pg'"
      ]
     },
     "execution_count": 37,
     "metadata": {},
     "output_type": "execute_result"
    }
   ],
   "source": [
    "answer_part_3 = comments.groupby('by').agg({'id': 'count'}).idxmax()[0]\n",
    "answer_part_3"
   ]
  },
  {
   "attachments": {},
   "cell_type": "markdown",
   "metadata": {},
   "source": [
    "<br>\n",
    "\n",
    "**Question 4.** What user created the most stories?"
   ]
  },
  {
   "cell_type": "code",
   "execution_count": 38,
   "metadata": {},
   "outputs": [
    {
     "data": {
      "text/plain": [
       "'usablecontent'"
      ]
     },
     "execution_count": 38,
     "metadata": {},
     "output_type": "execute_result"
    }
   ],
   "source": [
    "answer_part_4 = stories.groupby('by').agg({'id': 'count'}).idxmax()[0]\n",
    "answer_part_4"
   ]
  },
  {
   "attachments": {},
   "cell_type": "markdown",
   "metadata": {},
   "source": [
    "<br>\n",
    "\n",
    "**Question 5.** What is day of the week with the most stories created? Enter one of the following as an answer: Monday, Tuesday, Wednesday, Thursday, Friday, Saturday, Sunday."
   ]
  },
  {
   "cell_type": "code",
   "execution_count": 69,
   "metadata": {},
   "outputs": [
    {
     "data": {
      "text/plain": [
       "'Wednesday'"
      ]
     },
     "execution_count": 69,
     "metadata": {},
     "output_type": "execute_result"
    }
   ],
   "source": [
    "stories['day'] = pd.to_datetime(stories['time'], unit='s').dt.day_name()\n",
    "\n",
    "answer_part_5 = stories.groupby('day').agg({'id': 'count'}).idxmax()[0]\n",
    "answer_part_5"
   ]
  },
  {
   "attachments": {},
   "cell_type": "markdown",
   "metadata": {},
   "source": [
    "<br><br>\n",
    "\n",
    "**Question 6.** What is day of the week with the most comments left? Enter one of the following as an answer: Monday, Tuesday, Wednesday, Thursday, Friday, Saturday, Sunday."
   ]
  },
  {
   "cell_type": "code",
   "execution_count": 70,
   "metadata": {},
   "outputs": [
    {
     "data": {
      "text/plain": [
       "'Thursday'"
      ]
     },
     "execution_count": 70,
     "metadata": {},
     "output_type": "execute_result"
    }
   ],
   "source": [
    "comments['day'] = pd.to_datetime(comments['time'], unit='s').dt.day_name()\n",
    "\n",
    "answer_part_6 = comments.groupby('day').agg({'id': 'count'}).idxmax()[0]\n",
    "answer_part_6"
   ]
  },
  {
   "attachments": {},
   "cell_type": "markdown",
   "metadata": {},
   "source": [
    "<br>\n",
    "\n",
    "**Question 7.** How many comments does user leave on average?"
   ]
  },
  {
   "cell_type": "code",
   "execution_count": 50,
   "metadata": {},
   "outputs": [
    {
     "data": {
      "text/plain": [
       "4.765625"
      ]
     },
     "execution_count": 50,
     "metadata": {},
     "output_type": "execute_result"
    }
   ],
   "source": [
    "answer_part_7 = comments.groupby('by').agg({'id': 'count'}).mean()[0]\n",
    "\n",
    "answer_part_7\n"
   ]
  },
  {
   "attachments": {},
   "cell_type": "markdown",
   "metadata": {},
   "source": [
    "<br>\n",
    "\n",
    "**Question 8.** What is a median comments per user?"
   ]
  },
  {
   "cell_type": "code",
   "execution_count": 51,
   "metadata": {},
   "outputs": [
    {
     "data": {
      "text/plain": [
       "2.0"
      ]
     },
     "execution_count": 51,
     "metadata": {},
     "output_type": "execute_result"
    }
   ],
   "source": [
    "answer_part_8 = comments.groupby('by').agg({'id': 'count'}).median()[0]\n",
    "\n",
    "answer_part_8"
   ]
  },
  {
   "attachments": {},
   "cell_type": "markdown",
   "metadata": {},
   "source": [
    "<br>\n",
    "\n",
    "**Question 9.** What is an average number of stories per day?"
   ]
  },
  {
   "cell_type": "code",
   "execution_count": 71,
   "metadata": {},
   "outputs": [
    {
     "data": {
      "text/plain": [
       "69.57142857142857"
      ]
     },
     "execution_count": 71,
     "metadata": {},
     "output_type": "execute_result"
    }
   ],
   "source": [
    "answer_part_9 = stories.groupby('day').agg({'id': 'count'}).mean()[0]\n",
    "\n",
    "answer_part_9 "
   ]
  },
  {
   "attachments": {},
   "cell_type": "markdown",
   "metadata": {},
   "source": [
    "<br>\n",
    "\n",
    "**Question 10.** How many comments per day are left on average?"
   ]
  },
  {
   "cell_type": "code",
   "execution_count": 72,
   "metadata": {},
   "outputs": [
    {
     "data": {
      "text/plain": [
       "261.42857142857144"
      ]
     },
     "execution_count": 72,
     "metadata": {},
     "output_type": "execute_result"
    }
   ],
   "source": [
    "answer_part_10 = comments.groupby('day').agg({'id': 'count'}).mean()[0]\n",
    "answer_part_10"
   ]
  }
 ],
 "metadata": {
  "kernelspec": {
   "display_name": "Python 3",
   "language": "python",
   "name": "python3"
  },
  "language_info": {
   "codemirror_mode": {
    "name": "ipython",
    "version": 3
   },
   "file_extension": ".py",
   "mimetype": "text/x-python",
   "name": "python",
   "nbconvert_exporter": "python",
   "pygments_lexer": "ipython3",
   "version": "3.9.12"
  }
 },
 "nbformat": 4,
 "nbformat_minor": 4
}
